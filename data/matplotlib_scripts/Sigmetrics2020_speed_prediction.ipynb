{
 "cells": [
  {
   "cell_type": "code",
   "execution_count": 4,
   "metadata": {},
   "outputs": [],
   "source": [
    "import pandas as pd  \n",
    "import numpy as np  \n",
    "import matplotlib.pyplot as plt  \n",
    "import seaborn as seabornInstance \n",
    "from sklearn.model_selection import train_test_split\n",
    "from sklearn import linear_model\n",
    "from sklearn.linear_model import LinearRegression\n",
    "from sklearn import metrics\n",
    "from sklearn.model_selection import cross_val_score\n",
    "from sklearn.svm import SVR\n",
    "%matplotlib inline"
   ]
  },
  {
   "cell_type": "code",
   "execution_count": 5,
   "metadata": {},
   "outputs": [],
   "source": [
    "data = pd.read_csv('/Users/ozymandias/desktop/experiment_results/speed_data/speed_data_supertable.csv')"
   ]
  },
  {
   "cell_type": "code",
   "execution_count": 6,
   "metadata": {},
   "outputs": [
    {
     "data": {
      "text/html": [
       "<div>\n",
       "<style scoped>\n",
       "    .dataframe tbody tr th:only-of-type {\n",
       "        vertical-align: middle;\n",
       "    }\n",
       "\n",
       "    .dataframe tbody tr th {\n",
       "        vertical-align: top;\n",
       "    }\n",
       "\n",
       "    .dataframe thead th {\n",
       "        text-align: right;\n",
       "    }\n",
       "</style>\n",
       "<table border=\"1\" class=\"dataframe\">\n",
       "  <thead>\n",
       "    <tr style=\"text-align: right;\">\n",
       "      <th></th>\n",
       "      <th>GPU TFLOPS</th>\n",
       "      <th>Model FLOPs</th>\n",
       "      <th>Latency (ms)</th>\n",
       "      <th>Average Tensor Size (MB)</th>\n",
       "      <th>Max Tensor Size (MB)</th>\n",
       "      <th>Number of Parameters</th>\n",
       "      <th>Speed (steps/sec)</th>\n",
       "      <th>Step Time (s)</th>\n",
       "    </tr>\n",
       "  </thead>\n",
       "  <tbody>\n",
       "    <tr>\n",
       "      <th>count</th>\n",
       "      <td>208.00000</td>\n",
       "      <td>2.080000e+02</td>\n",
       "      <td>208.000000</td>\n",
       "      <td>208.000000</td>\n",
       "      <td>208.000000</td>\n",
       "      <td>2.080000e+02</td>\n",
       "      <td>208.000000</td>\n",
       "      <td>208.000000</td>\n",
       "    </tr>\n",
       "    <tr>\n",
       "      <th>mean</th>\n",
       "      <td>6.81950</td>\n",
       "      <td>5.541846e+07</td>\n",
       "      <td>15.300000</td>\n",
       "      <td>0.156059</td>\n",
       "      <td>1.687500</td>\n",
       "      <td>7.920722e+06</td>\n",
       "      <td>5.741883</td>\n",
       "      <td>0.615639</td>\n",
       "    </tr>\n",
       "    <tr>\n",
       "      <th>std</th>\n",
       "      <td>2.71303</td>\n",
       "      <td>7.424630e+07</td>\n",
       "      <td>15.036188</td>\n",
       "      <td>0.177789</td>\n",
       "      <td>1.953258</td>\n",
       "      <td>1.061111e+07</td>\n",
       "      <td>5.948928</td>\n",
       "      <td>0.840310</td>\n",
       "    </tr>\n",
       "    <tr>\n",
       "      <th>min</th>\n",
       "      <td>4.11300</td>\n",
       "      <td>4.856736e+06</td>\n",
       "      <td>0.300000</td>\n",
       "      <td>0.040375</td>\n",
       "      <td>0.562500</td>\n",
       "      <td>6.938180e+05</td>\n",
       "      <td>0.324141</td>\n",
       "      <td>0.040085</td>\n",
       "    </tr>\n",
       "    <tr>\n",
       "      <th>25%</th>\n",
       "      <td>4.11300</td>\n",
       "      <td>1.096726e+07</td>\n",
       "      <td>0.300000</td>\n",
       "      <td>0.049794</td>\n",
       "      <td>0.562500</td>\n",
       "      <td>1.566746e+06</td>\n",
       "      <td>1.972673</td>\n",
       "      <td>0.141233</td>\n",
       "    </tr>\n",
       "    <tr>\n",
       "      <th>50%</th>\n",
       "      <td>6.81950</td>\n",
       "      <td>1.673322e+07</td>\n",
       "      <td>15.300000</td>\n",
       "      <td>0.060537</td>\n",
       "      <td>0.562500</td>\n",
       "      <td>2.392354e+06</td>\n",
       "      <td>3.916911</td>\n",
       "      <td>0.259919</td>\n",
       "    </tr>\n",
       "    <tr>\n",
       "      <th>75%</th>\n",
       "      <td>9.52600</td>\n",
       "      <td>6.118441e+07</td>\n",
       "      <td>30.300000</td>\n",
       "      <td>0.166802</td>\n",
       "      <td>1.687500</td>\n",
       "      <td>8.746330e+06</td>\n",
       "      <td>7.083276</td>\n",
       "      <td>0.506940</td>\n",
       "    </tr>\n",
       "    <tr>\n",
       "      <th>max</th>\n",
       "      <td>9.52600</td>\n",
       "      <td>1.833507e+08</td>\n",
       "      <td>30.300000</td>\n",
       "      <td>0.462786</td>\n",
       "      <td>5.062500</td>\n",
       "      <td>2.620436e+07</td>\n",
       "      <td>24.946808</td>\n",
       "      <td>3.085076</td>\n",
       "    </tr>\n",
       "  </tbody>\n",
       "</table>\n",
       "</div>"
      ],
      "text/plain": [
       "       GPU TFLOPS   Model FLOPs  Latency (ms)  Average Tensor Size (MB)  \\\n",
       "count   208.00000  2.080000e+02    208.000000                208.000000   \n",
       "mean      6.81950  5.541846e+07     15.300000                  0.156059   \n",
       "std       2.71303  7.424630e+07     15.036188                  0.177789   \n",
       "min       4.11300  4.856736e+06      0.300000                  0.040375   \n",
       "25%       4.11300  1.096726e+07      0.300000                  0.049794   \n",
       "50%       6.81950  1.673322e+07     15.300000                  0.060537   \n",
       "75%       9.52600  6.118441e+07     30.300000                  0.166802   \n",
       "max       9.52600  1.833507e+08     30.300000                  0.462786   \n",
       "\n",
       "       Max Tensor Size (MB)  Number of Parameters  Speed (steps/sec)  \\\n",
       "count            208.000000          2.080000e+02         208.000000   \n",
       "mean               1.687500          7.920722e+06           5.741883   \n",
       "std                1.953258          1.061111e+07           5.948928   \n",
       "min                0.562500          6.938180e+05           0.324141   \n",
       "25%                0.562500          1.566746e+06           1.972673   \n",
       "50%                0.562500          2.392354e+06           3.916911   \n",
       "75%                1.687500          8.746330e+06           7.083276   \n",
       "max                5.062500          2.620436e+07          24.946808   \n",
       "\n",
       "       Step Time (s)  \n",
       "count     208.000000  \n",
       "mean        0.615639  \n",
       "std         0.840310  \n",
       "min         0.040085  \n",
       "25%         0.141233  \n",
       "50%         0.259919  \n",
       "75%         0.506940  \n",
       "max         3.085076  "
      ]
     },
     "execution_count": 6,
     "metadata": {},
     "output_type": "execute_result"
    }
   ],
   "source": [
    "data.describe()"
   ]
  },
  {
   "cell_type": "code",
   "execution_count": 144,
   "metadata": {},
   "outputs": [],
   "source": [
    "X = data[['GPU TFLOPS', 'Model FLOPs', 'Latency (ms)', 'Average Tensor Size (MB)','Max Tensor Size (MB)', 'Number of Parameters']]\n",
    "# X = data[['GPU TFLOPS', 'Model FLOPs', 'Latency (ms)']]\n",
    "y = data[['Step Time (s)']]\n",
    "# y = data[['Speed (steps/sec)']]"
   ]
  },
  {
   "cell_type": "code",
   "execution_count": 145,
   "metadata": {},
   "outputs": [],
   "source": [
    "lm = linear_model.LinearRegression()\n",
    "model = lm.fit(X,y)"
   ]
  },
  {
   "cell_type": "code",
   "execution_count": 146,
   "metadata": {},
   "outputs": [
    {
     "data": {
      "text/plain": [
       "0.801040696435778"
      ]
     },
     "execution_count": 146,
     "metadata": {},
     "output_type": "execute_result"
    }
   ],
   "source": [
    "lm.score(X,y)"
   ]
  },
  {
   "cell_type": "code",
   "execution_count": 147,
   "metadata": {},
   "outputs": [
    {
     "data": {
      "text/plain": [
       "array([[-5.11840000e-02, -2.08960073e-06,  1.70250559e-02,\n",
       "        -5.67741817e-03, -1.25891973e-01,  1.47094806e-05]])"
      ]
     },
     "execution_count": 147,
     "metadata": {},
     "output_type": "execute_result"
    }
   ],
   "source": [
    "lm.coef_"
   ]
  },
  {
   "cell_type": "code",
   "execution_count": 148,
   "metadata": {},
   "outputs": [
    {
     "data": {
      "text/plain": [
       "array([0.21027343])"
      ]
     },
     "execution_count": 148,
     "metadata": {},
     "output_type": "execute_result"
    }
   ],
   "source": [
    "lm.intercept_"
   ]
  },
  {
   "cell_type": "code",
   "execution_count": 149,
   "metadata": {},
   "outputs": [],
   "source": [
    "predictions = lm.predict(X)"
   ]
  },
  {
   "cell_type": "code",
   "execution_count": 150,
   "metadata": {},
   "outputs": [
    {
     "data": {
      "text/plain": [
       "0.8005069680880796"
      ]
     },
     "execution_count": 150,
     "metadata": {},
     "output_type": "execute_result"
    }
   ],
   "source": [
    "X_train, X_test, y_train, y_test = train_test_split(X, y, test_size=0.2, random_state=0)\n",
    "regressor = LinearRegression()  \n",
    "regressor.fit(X_train, y_train)\n",
    "regressor.score(X,y)"
   ]
  },
  {
   "cell_type": "code",
   "execution_count": 126,
   "metadata": {},
   "outputs": [
    {
     "data": {
      "image/png": "[encoded data removed]",
      "text/plain": [
       "<Figure size 1152x720 with 1 Axes>"
      ]
     },
     "metadata": {
      "needs_background": "light"
     },
     "output_type": "display_data"
    }
   ],
   "source": [
    "y_pred = regressor.predict(X_test)\n",
    "df = pd.DataFrame({'Actual': y_test.values.flatten(), 'Predicted': y_pred.flatten()})\n",
    "df.plot(kind='bar',figsize=(16,10))\n",
    "plt.grid(which='major', linestyle='-', linewidth='0.5', color='green')\n",
    "plt.grid(which='minor', linestyle=':', linewidth='0.5', color='black')\n",
    "plt.show()"
   ]
  },
  {
   "cell_type": "code",
   "execution_count": 127,
   "metadata": {},
   "outputs": [
    {
     "name": "stdout",
     "output_type": "stream",
     "text": [
      "('Mean Absolute Error:', 3.5980633634175256)\n",
      "('Mean Squared Error:', 24.350971970905643)\n",
      "('Root Mean Squared Error:', 4.93467040144584)\n"
     ]
    }
   ],
   "source": [
    "print('Mean Absolute Error:', metrics.mean_absolute_error(y_test, y_pred))  \n",
    "print('Mean Squared Error:', metrics.mean_squared_error(y_test, y_pred))  \n",
    "print('Root Mean Squared Error:', np.sqrt(metrics.mean_squared_error(y_test, y_pred)))"
   ]
  },
  {
   "cell_type": "code",
   "execution_count": 31,
   "metadata": {},
   "outputs": [],
   "source": [
    "######## Here we go for the simple linear regression of a * GPU FLOPS/Model FLOPs + b = y, with no latency\n",
    "data = pd.read_csv('/Users/ozymandias/desktop/experiment_results/speed_data/0latency_data.csv')\n",
    "# division = []\n",
    "# for i in range(len(data)):\n",
    "#     division.append(data['GPU TFLOPS'][i]/data['Model FLOPs'][i] * 1000 * 1000 * 1000 * 1000)\n",
    "# for i in range(len(data)):\n",
    "#     division.append(data['Model FLOPs'][i]/data['GPU TFLOPS'][i] / 1000 / 1000 / 1000 / 1000)\n",
    "# data['Result'] = division\n",
    "# X = data[['Result']]\n",
    "# X = data[['GPU/Model']]\n",
    "X = data[['Model/GPU']]\n",
    "y = data[['Step Time (s)']]\n",
    "# y = data[['Speed (steps/sec)']]\n",
    "# print X"
   ]
  },
  {
   "cell_type": "code",
   "execution_count": 8,
   "metadata": {},
   "outputs": [
    {
     "data": {
      "text/plain": [
       "0.9209562448321436"
      ]
     },
     "execution_count": 8,
     "metadata": {},
     "output_type": "execute_result"
    }
   ],
   "source": [
    "lm = linear_model.LinearRegression()\n",
    "model = lm.fit(X,y)\n",
    "lm.score(X,y)"
   ]
  },
  {
   "cell_type": "code",
   "execution_count": 9,
   "metadata": {},
   "outputs": [
    {
     "data": {
      "text/plain": [
       "array([[1.39359634]])"
      ]
     },
     "execution_count": 9,
     "metadata": {},
     "output_type": "execute_result"
    }
   ],
   "source": [
    "lm.coef_"
   ]
  },
  {
   "cell_type": "code",
   "execution_count": 10,
   "metadata": {},
   "outputs": [
    {
     "data": {
      "text/plain": [
       "array([0.12229612])"
      ]
     },
     "execution_count": 10,
     "metadata": {},
     "output_type": "execute_result"
    }
   ],
   "source": [
    "lm.intercept_"
   ]
  },
  {
   "cell_type": "code",
   "execution_count": 11,
   "metadata": {},
   "outputs": [
    {
     "data": {
      "text/plain": [
       "0.9209507776400531"
      ]
     },
     "execution_count": 11,
     "metadata": {},
     "output_type": "execute_result"
    }
   ],
   "source": [
    "X_train, X_test, y_train, y_test = train_test_split(X, y, test_size=0.2, random_state=0)\n",
    "# export_csv = y_test.to_csv (r'/Users/ozymandias/desktop/export_dataframe.csv', index = None, header=True)\n",
    "regressor = LinearRegression()\n",
    "regressor.fit(X_train, y_train)\n",
    "regressor.score(X,y)"
   ]
  },
  {
   "cell_type": "code",
   "execution_count": 13,
   "metadata": {},
   "outputs": [
    {
     "data": {
      "image/png": "[encoded data removed]",
      "text/plain": [
       "<Figure size 1152x720 with 1 Axes>"
      ]
     },
     "metadata": {
      "needs_background": "light"
     },
     "output_type": "display_data"
    }
   ],
   "source": [
    "y_pred = regressor.predict(X_test)\n",
    "df = pd.DataFrame({'Actual': y_test.values.flatten(), 'Predicted': y_pred.flatten()})\n",
    "df.plot(kind='bar',figsize=(16,10))\n",
    "plt.grid(which='major', linestyle='-', linewidth='0.5', color='green')\n",
    "plt.grid(which='minor', linestyle=':', linewidth='0.5', color='black')\n",
    "plt.ylabel(\"Step time(s)\")\n",
    "# plt.ylabel(\"Speed(Steps/sec)\")\n",
    "plt.show()"
   ]
  },
  {
   "cell_type": "code",
   "execution_count": 41,
   "metadata": {},
   "outputs": [
    {
     "name": "stdout",
     "output_type": "stream",
     "text": [
      "21.95413003319781\n",
      "55.88406766347646\n",
      "7\n"
     ]
    },
    {
     "data": {
      "image/png": "[encoded data removed]",
      "text/plain": [
       "<Figure size 432x288 with 1 Axes>"
      ]
     },
     "metadata": {
      "needs_background": "light"
     },
     "output_type": "display_data"
    }
   ],
   "source": [
    "g = []\n",
    "for i in range(len(y_pred.flatten())):\n",
    "    g.append(((y_pred.flatten()[i]-y_test.values.flatten()[i])/y_test.values.flatten()[i])*100)\n",
    "plt.plot(g, 'o-')\n",
    "plt.ylabel(\"Error(%)\")\n",
    "count = 0\n",
    "total = 0\n",
    "for i in g:\n",
    "    total += abs(i)\n",
    "    if i > 100:\n",
    "        count += 1\n",
    "print np.mean(g)\n",
    "print np.std(g)\n",
    "print count"
   ]
  },
  {
   "cell_type": "code",
   "execution_count": 14,
   "metadata": {},
   "outputs": [
    {
     "name": "stdout",
     "output_type": "stream",
     "text": [
      "('Mean Absolute Error:', 0.06417153400949457)\n",
      "('Mean Squared Error:', 0.0064419802103457225)\n",
      "('Root Mean Squared Error:', 0.08026194746170642)\n"
     ]
    }
   ],
   "source": [
    "print('Mean Absolute Error:', metrics.mean_absolute_error(y_test, y_pred))  \n",
    "print('Mean Squared Error:', metrics.mean_squared_error(y_test, y_pred))  \n",
    "print('Root Mean Squared Error:', np.sqrt(metrics.mean_squared_error(y_test, y_pred)))"
   ]
  },
  {
   "cell_type": "code",
   "execution_count": 15,
   "metadata": {},
   "outputs": [
    {
     "name": "stdout",
     "output_type": "stream",
     "text": [
      "[-0.09185882 -0.11000732 -0.06379311 -0.0364289  -0.06885666 -0.05946531\n",
      " -0.13028781 -0.14838281 -0.02207002 -0.0476706 ]\n",
      "MAE: -0.078 (+/- 0.078)\n",
      "[-0.01707689 -0.01475766 -0.0099022  -0.00193276 -0.00481736 -0.00361011\n",
      " -0.01949254 -0.02366635 -0.0015695  -0.00471979]\n",
      "MSE: -0.010 (+/- 0.015)\n",
      "[ 0.94722267  0.55553433  0.41675012  0.57437994  0.95646485  0.19109738\n",
      " -0.49511203  0.80846961  0.98114994  0.64729448]\n",
      "Accuracy: 0.56 (+/- 0.85)\n"
     ]
    }
   ],
   "source": [
    "scores = cross_val_score(regressor, X, y, cv=10, scoring='neg_mean_absolute_error')\n",
    "print scores\n",
    "print(\"MAE: %0.3f (+/- %0.3f)\" % (scores.mean(), scores.std() * 2))\n",
    "scores = cross_val_score(regressor, X, y, cv=10, scoring='neg_mean_squared_error')\n",
    "print scores\n",
    "print(\"MSE: %0.3f (+/- %0.3f)\" % (scores.mean(), scores.std() * 2))\n",
    "scores = cross_val_score(regressor, X, y, cv=10, scoring='r2')\n",
    "print scores\n",
    "print(\"Accuracy: %0.2f (+/- %0.2f)\" % (scores.mean(), scores.std() * 2))"
   ]
  },
  {
   "cell_type": "code",
   "execution_count": 28,
   "metadata": {},
   "outputs": [
    {
     "data": {
      "text/plain": [
       "Text(0,0.5,'Steps time(s)')"
      ]
     },
     "execution_count": 28,
     "metadata": {},
     "output_type": "execute_result"
    },
    {
     "data": {
      "image/png": "[encoded data removed]",
      "text/plain": [
       "<Figure size 432x288 with 1 Axes>"
      ]
     },
     "metadata": {
      "needs_background": "light"
     },
     "output_type": "display_data"
    }
   ],
   "source": [
    "plt.plot(X.values, y.values, 'x')\n",
    "plt.xlabel(\"GPU FLOPs/Model FLOPS\")\n",
    "plt.ylabel(\"Steps time(s)\")\n",
    "# plt.ylabel(\"Speed(Steps/sec)\")"
   ]
  },
  {
   "cell_type": "code",
   "execution_count": 32,
   "metadata": {},
   "outputs": [],
   "source": [
    "X = data[['Normalized GPU', 'Normalized Model']]\n",
    "y = data[['Step Time (s)']]"
   ]
  },
  {
   "cell_type": "code",
   "execution_count": 33,
   "metadata": {},
   "outputs": [],
   "source": [
    "X_train, X_test, y_train, y_test = train_test_split(X, y, test_size=0.2, random_state=0)\n",
    "# export_csv = y_test.to_csv (r'/Users/ozymandias/desktop/export_dataframe.csv', index = None, header=True)\n",
    "regressor = LinearRegression()\n",
    "regressor.fit(X_train, y_train)\n",
    "y_pred = regressor.predict(X_test)"
   ]
  },
  {
   "cell_type": "code",
   "execution_count": 34,
   "metadata": {},
   "outputs": [
    {
     "name": "stdout",
     "output_type": "stream",
     "text": [
      "[-0.21679765 -0.10010477 -0.18864565 -0.1208089  -0.06998782 -0.05606613\n",
      " -0.08393321 -0.1605206  -0.09089473 -0.12409269]\n",
      "MAE: -0.121 (+/- 0.100)\n",
      "[-0.05518507 -0.03341049 -0.05382569 -0.01642773 -0.00570626 -0.00318105\n",
      " -0.00915196 -0.03722837 -0.01303493 -0.02291285]\n",
      "MSE: -0.025 (+/- 0.036)\n",
      "[ 0.82944672 -0.00624443 -2.17038879 -2.61760317  0.94843171  0.28723531\n",
      "  0.29802851  0.69871293  0.84344744 -0.71225511]\n",
      "Accuracy: -0.16 (+/- 2.43)\n"
     ]
    }
   ],
   "source": [
    "scores = cross_val_score(regressor, X, y, cv=10, scoring='neg_mean_absolute_error')\n",
    "print scores\n",
    "print(\"MAE: %0.3f (+/- %0.3f)\" % (scores.mean(), scores.std() * 2))\n",
    "scores = cross_val_score(regressor, X, y, cv=10, scoring='neg_mean_squared_error')\n",
    "print scores\n",
    "print(\"MSE: %0.3f (+/- %0.3f)\" % (scores.mean(), scores.std() * 2))\n",
    "scores = cross_val_score(regressor, X, y, cv=10, scoring='r2')\n",
    "print scores\n",
    "print(\"Accuracy: %0.2f (+/- %0.2f)\" % (scores.mean(), scores.std() * 2))"
   ]
  },
  {
   "cell_type": "code",
   "execution_count": 35,
   "metadata": {},
   "outputs": [
    {
     "name": "stdout",
     "output_type": "stream",
     "text": [
      "('Mean Absolute Error:', 0.10302322177832768)\n",
      "('Mean Squared Error:', 0.017082969158782057)\n",
      "('Root Mean Squared Error:', 0.1307018330352794)\n"
     ]
    }
   ],
   "source": [
    "print('Mean Absolute Error:', metrics.mean_absolute_error(y_test, y_pred))  \n",
    "print('Mean Squared Error:', metrics.mean_squared_error(y_test, y_pred))  \n",
    "print('Root Mean Squared Error:', np.sqrt(metrics.mean_squared_error(y_test, y_pred)))"
   ]
  },
  {
   "cell_type": "code",
   "execution_count": 21,
   "metadata": {},
   "outputs": [],
   "source": [
    "###### Normalized data\n",
    "data = pd.read_csv('/Users/ozymandias/desktop/experiment_results/speed_data/shake_p.csv')\n",
    "# X = data[['GPU/Model']]\n",
    "X = data[['Model/GPU']]\n",
    "y = data[['Step Time (s)']]\n",
    "# y = data[['Speed (steps/sec)']]\n",
    "# print X"
   ]
  },
  {
   "cell_type": "code",
   "execution_count": 22,
   "metadata": {},
   "outputs": [
    {
     "data": {
      "text/plain": [
       "0.9802615856383277"
      ]
     },
     "execution_count": 22,
     "metadata": {},
     "output_type": "execute_result"
    }
   ],
   "source": [
    "X_train, X_test, y_train, y_test = train_test_split(X, y, test_size=0.2, random_state=0)\n",
    "regressor = LinearRegression()  \n",
    "regressor.fit(X_train, y_train)\n",
    "regressor.score(X,y)"
   ]
  },
  {
   "cell_type": "code",
   "execution_count": 124,
   "metadata": {},
   "outputs": [
    {
     "data": {
      "image/png": "[encoded data removed]",
      "text/plain": [
       "<Figure size 1152x720 with 1 Axes>"
      ]
     },
     "metadata": {
      "needs_background": "light"
     },
     "output_type": "display_data"
    }
   ],
   "source": [
    "y_pred = regressor.predict(X_test)\n",
    "df = pd.DataFrame({'Actual': y_test.values.flatten(), 'Predicted': y_pred.flatten()})\n",
    "df.plot(kind='bar',figsize=(16,10))\n",
    "plt.grid(which='major', linestyle='-', linewidth='0.5', color='green')\n",
    "plt.grid(which='minor', linestyle=':', linewidth='0.5', color='black')\n",
    "plt.ylabel(\"Steps time(s)\")\n",
    "plt.show()"
   ]
  },
  {
   "cell_type": "code",
   "execution_count": 125,
   "metadata": {},
   "outputs": [
    {
     "name": "stdout",
     "output_type": "stream",
     "text": [
      "('Mean Absolute Error:', 0.015868889207986105)\n",
      "('Mean Squared Error:', 0.00033947521573188277)\n",
      "('Root Mean Squared Error:', 0.01842485320787883)\n"
     ]
    }
   ],
   "source": [
    "print('Mean Absolute Error:', metrics.mean_absolute_error(y_test, y_pred))  \n",
    "print('Mean Squared Error:', metrics.mean_squared_error(y_test, y_pred))  \n",
    "print('Root Mean Squared Error:', np.sqrt(metrics.mean_squared_error(y_test, y_pred)))"
   ]
  },
  {
   "cell_type": "code",
   "execution_count": 126,
   "metadata": {},
   "outputs": [
    {
     "name": "stdout",
     "output_type": "stream",
     "text": [
      "[-0.0033167  -0.00059303 -0.00015329 -0.00023874 -0.00077614]\n",
      "Accuracy: -0.001 (+/- 0.002)\n",
      "[0.82118007 0.9116194  0.98170954 0.89360866 0.8018944 ]\n",
      "Accuracy: 0.88 (+/- 0.13)\n"
     ]
    }
   ],
   "source": [
    "scores = cross_val_score(regressor, X, y, cv=5, scoring='neg_mean_squared_error')\n",
    "print scores\n",
    "print(\"Accuracy: %0.3f (+/- %0.3f)\" % (scores.mean(), scores.std() * 2))\n",
    "scores = cross_val_score(regressor, X, y, cv=5, scoring='r2')\n",
    "print scores\n",
    "print(\"Accuracy: %0.2f (+/- %0.2f)\" % (scores.mean(), scores.std() * 2))"
   ]
  },
  {
   "cell_type": "code",
   "execution_count": 127,
   "metadata": {},
   "outputs": [
    {
     "data": {
      "text/plain": [
       "Text(0,0.5,'Speed(Steps/sec)')"
      ]
     },
     "execution_count": 127,
     "metadata": {},
     "output_type": "execute_result"
    },
    {
     "data": {
      "image/png": "[encoded data removed]",
      "text/plain": [
       "<Figure size 432x288 with 1 Axes>"
      ]
     },
     "metadata": {
      "needs_background": "light"
     },
     "output_type": "display_data"
    }
   ],
   "source": [
    "plt.plot(X.values, y.values, 'x')\n",
    "plt.xlabel(\"GPU FLOPs/Model FLOPS\")\n",
    "# plt.ylabel(\"Steps time(s)\")\n",
    "plt.ylabel(\"Speed(Steps/sec)\")"
   ]
  },
  {
   "cell_type": "code",
   "execution_count": null,
   "metadata": {},
   "outputs": [],
   "source": []
  },
  {
   "cell_type": "code",
   "execution_count": 10,
   "metadata": {},
   "outputs": [],
   "source": [
    "data = pd.read_csv('/Users/ozymandias/desktop/experiment_results/speed_data/0latency_k80.csv')\n",
    "# X = data[['GPU/Model']]\n",
    "X = data[['Normalized Model']]\n",
    "y = data[['Step Time (s)']]\n",
    "# y = data[['Speed (steps/sec)']]"
   ]
  },
  {
   "cell_type": "code",
   "execution_count": 24,
   "metadata": {},
   "outputs": [
    {
     "data": {
      "text/plain": [
       "0.9544350931360129"
      ]
     },
     "execution_count": 24,
     "metadata": {},
     "output_type": "execute_result"
    }
   ],
   "source": [
    "X_train, X_test, y_train, y_test = train_test_split(X, y, test_size=0.2, random_state=0)\n",
    "regressor = LinearRegression()  \n",
    "regressor.fit(X_train, y_train)\n",
    "regressor.score(X,y)"
   ]
  },
  {
   "cell_type": "code",
   "execution_count": 25,
   "metadata": {},
   "outputs": [
    {
     "data": {
      "image/png": "[encoded data removed]",
      "text/plain": [
       "<Figure size 1152x720 with 1 Axes>"
      ]
     },
     "metadata": {
      "needs_background": "light"
     },
     "output_type": "display_data"
    }
   ],
   "source": [
    "y_pred = regressor.predict(X_test)\n",
    "df = pd.DataFrame({'Actual': y_test.values.flatten(), 'Predicted': y_pred.flatten()})\n",
    "df.plot(kind='bar',figsize=(16,10))\n",
    "plt.grid(which='major', linestyle='-', linewidth='0.5', color='green')\n",
    "plt.grid(which='minor', linestyle=':', linewidth='0.5', color='black')\n",
    "plt.ylabel(\"Steps time(s)\")\n",
    "plt.show()"
   ]
  },
  {
   "cell_type": "code",
   "execution_count": 26,
   "metadata": {},
   "outputs": [
    {
     "name": "stdout",
     "output_type": "stream",
     "text": [
      "('Mean Absolute Error:', 0.06796358159488133)\n",
      "('Mean Squared Error:', 0.006045719318825488)\n",
      "('Root Mean Squared Error:', 0.07775422380054661)\n"
     ]
    }
   ],
   "source": [
    "print('Mean Absolute Error:', metrics.mean_absolute_error(y_test, y_pred))  \n",
    "print('Mean Squared Error:', metrics.mean_squared_error(y_test, y_pred))  \n",
    "print('Root Mean Squared Error:', np.sqrt(metrics.mean_squared_error(y_test, y_pred)))"
   ]
  },
  {
   "cell_type": "code",
   "execution_count": 27,
   "metadata": {},
   "outputs": [
    {
     "name": "stdout",
     "output_type": "stream",
     "text": [
      "[-0.03351031 -0.00842454 -0.0008893  -0.01168101 -0.01016466]\n",
      "Accuracy: -0.013 (+/- 0.022)\n",
      "[ 0.89643407  0.21002481  0.97936341 -0.00753914  0.93330314]\n",
      "Accuracy: 0.60 (+/- 0.83)\n"
     ]
    }
   ],
   "source": [
    "scores = cross_val_score(regressor, X, y, cv=5, scoring='neg_mean_squared_error')\n",
    "print scores\n",
    "print(\"Accuracy: %0.3f (+/- %0.3f)\" % (scores.mean(), scores.std() * 2))\n",
    "scores = cross_val_score(regressor, X, y, cv=5, scoring='r2')\n",
    "print scores\n",
    "print(\"Accuracy: %0.2f (+/- %0.2f)\" % (scores.mean(), scores.std() * 2))"
   ]
  },
  {
   "cell_type": "code",
   "execution_count": 9,
   "metadata": {},
   "outputs": [
    {
     "data": {
      "text/plain": [
       "Text(0,0.5,'Steps time(s)')"
      ]
     },
     "execution_count": 9,
     "metadata": {},
     "output_type": "execute_result"
    },
    {
     "data": {
      "image/png": "[encoded data removed]",
      "text/plain": [
       "<Figure size 432x288 with 1 Axes>"
      ]
     },
     "metadata": {
      "needs_background": "light"
     },
     "output_type": "display_data"
    }
   ],
   "source": [
    "plt.plot(X.values, y.values, 'x')\n",
    "plt.xlabel(\"Model FLOPS\")\n",
    "plt.ylabel(\"Steps time(s)\")\n",
    "# plt.ylabel(\"Speed(Steps/sec)\")"
   ]
  },
  {
   "cell_type": "code",
   "execution_count": 99,
   "metadata": {},
   "outputs": [],
   "source": [
    "data = pd.read_csv('/Users/ozymandias/desktop/experiment_results/speed_data/0latency_p100.csv')\n",
    "# X = data[['GPU/Model']]\n",
    "X = data[['Normalized Model']]\n",
    "y = data[['Step Time (s)']]\n",
    "# y = data[['Speed (steps/sec)']]"
   ]
  },
  {
   "cell_type": "code",
   "execution_count": 100,
   "metadata": {},
   "outputs": [
    {
     "data": {
      "text/plain": [
       "0.9090583038987765"
      ]
     },
     "execution_count": 100,
     "metadata": {},
     "output_type": "execute_result"
    }
   ],
   "source": [
    "X_train, X_test, y_train, y_test = train_test_split(X, y, test_size=0.2, random_state=0)\n",
    "regressor = LinearRegression()  \n",
    "regressor.fit(X_train, y_train)\n",
    "regressor.score(X,y)"
   ]
  },
  {
   "cell_type": "code",
   "execution_count": 101,
   "metadata": {},
   "outputs": [
    {
     "data": {
      "image/png": "[encoded data removed]",
      "text/plain": [
       "<Figure size 1152x720 with 1 Axes>"
      ]
     },
     "metadata": {
      "needs_background": "light"
     },
     "output_type": "display_data"
    }
   ],
   "source": [
    "y_pred = regressor.predict(X_test)\n",
    "df = pd.DataFrame({'Actual': y_test.values.flatten(), 'Predicted': y_pred.flatten()})\n",
    "df.plot(kind='bar',figsize=(16,10))\n",
    "plt.grid(which='major', linestyle='-', linewidth='0.5', color='green')\n",
    "plt.grid(which='minor', linestyle=':', linewidth='0.5', color='black')\n",
    "plt.ylabel(\"Steps time(s)\")\n",
    "plt.show()"
   ]
  },
  {
   "cell_type": "code",
   "execution_count": 102,
   "metadata": {},
   "outputs": [
    {
     "name": "stdout",
     "output_type": "stream",
     "text": [
      "[-0.00574561 -0.00186343 -0.00033281 -0.00383814 -0.00155058]\n",
      "Accuracy: -0.003 (+/- 0.004)\n",
      "[ 0.8522467  -0.59421604  0.95007596 -1.42977362  0.88412654]\n",
      "Accuracy: 0.13 (+/- 1.94)\n"
     ]
    }
   ],
   "source": [
    "scores = cross_val_score(regressor, X, y, cv=5, scoring='neg_mean_squared_error')\n",
    "print scores\n",
    "print(\"Accuracy: %0.3f (+/- %0.3f)\" % (scores.mean(), scores.std() * 2))\n",
    "scores = cross_val_score(regressor, X, y, cv=5, scoring='r2')\n",
    "print scores\n",
    "print(\"Accuracy: %0.2f (+/- %0.2f)\" % (scores.mean(), scores.std() * 2))"
   ]
  },
  {
   "cell_type": "code",
   "execution_count": 103,
   "metadata": {},
   "outputs": [
    {
     "name": "stdout",
     "output_type": "stream",
     "text": [
      "('Mean Absolute Error:', 0.03540149095168502)\n",
      "('Mean Squared Error:', 0.0014911835701011543)\n",
      "('Root Mean Squared Error:', 0.03861584610106523)\n"
     ]
    }
   ],
   "source": [
    "print('Mean Absolute Error:', metrics.mean_absolute_error(y_test, y_pred))  \n",
    "print('Mean Squared Error:', metrics.mean_squared_error(y_test, y_pred))  \n",
    "print('Root Mean Squared Error:', np.sqrt(metrics.mean_squared_error(y_test, y_pred)))"
   ]
  },
  {
   "cell_type": "code",
   "execution_count": 104,
   "metadata": {},
   "outputs": [
    {
     "data": {
      "text/plain": [
       "Text(0,0.5,'Steps time(s)')"
      ]
     },
     "execution_count": 104,
     "metadata": {},
     "output_type": "execute_result"
    },
    {
     "data": {
      "image/png": "[encoded data removed]",
      "text/plain": [
       "<Figure size 432x288 with 1 Axes>"
      ]
     },
     "metadata": {
      "needs_background": "light"
     },
     "output_type": "display_data"
    }
   ],
   "source": [
    "plt.plot(X.values, y.values, 'x')\n",
    "plt.xlabel(\"Model FLOPS\")\n",
    "plt.ylabel(\"Steps time(s)\")\n",
    "# plt.ylabel(\"Speed(Steps/sec)\")"
   ]
  },
  {
   "cell_type": "code",
   "execution_count": null,
   "metadata": {},
   "outputs": [],
   "source": []
  }
 ],
 "metadata": {
  "kernelspec": {
   "display_name": "Python 2",
   "language": "python",
   "name": "python2"
  },
  "language_info": {
   "codemirror_mode": {
    "name": "ipython",
    "version": 2
   },
   "file_extension": ".py",
   "mimetype": "text/x-python",
   "name": "python",
   "nbconvert_exporter": "python",
   "pygments_lexer": "ipython2",
   "version": "2.7.15"
  }
 },
 "nbformat": 4,
 "nbformat_minor": 2
}

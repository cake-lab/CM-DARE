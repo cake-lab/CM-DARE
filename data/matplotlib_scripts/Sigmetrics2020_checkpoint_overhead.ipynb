{
 "cells": [
  {
   "cell_type": "code",
   "execution_count": 19,
   "metadata": {},
   "outputs": [],
   "source": [
    "import pandas as pd  \n",
    "import numpy as np  \n",
    "import matplotlib.pyplot as plt  \n",
    "import seaborn as seabornInstance \n",
    "from sklearn.model_selection import train_test_split\n",
    "from sklearn import linear_model\n",
    "from sklearn.linear_model import LinearRegression\n",
    "from sklearn.model_selection import cross_val_score\n",
    "from sklearn.utils import shuffle\n",
    "from sklearn import metrics\n",
    "from datetime import datetime\n",
    "from sklearn.svm import SVR\n",
    "from sklearn.preprocessing import MinMaxScaler\n",
    "from sklearn.model_selection import GridSearchCV\n",
    "import math\n",
    "%matplotlib inline\n",
    "plt.style.use('grayscale')\n",
    "from scipy.optimize import curve_fit\n",
    "def mean_absolute_percentage_error(y_true, y_pred): \n",
    "    y_true, y_pred = np.array(y_true), np.array(y_pred)\n",
    "    return np.mean(np.abs((y_true - y_pred) / y_true)) * 100\n",
    "from matplotlib.font_manager import FontProperties\n",
    "font0 = FontProperties()\n",
    "def gen_font(weight, size):\n",
    "    font1=font0.copy()\n",
    "    font1.set_family('sans-serif')\n",
    "    font1.set_weight(weight)\n",
    "    font1.set_size(size)\n",
    "    return font1"
   ]
  },
  {
   "cell_type": "code",
   "execution_count": 2,
   "metadata": {},
   "outputs": [],
   "source": [
    "data = pd.read_csv('/Users/ozymandias/desktop/experiment_results/checkpoint/ckpt.csv')\n",
    "data = shuffle(data, random_state=0)\n",
    "X = data[['Checkpoint Size (MB)']]\n",
    "y = data[['Duration mean (s)']]"
   ]
  },
  {
   "cell_type": "code",
   "execution_count": 3,
   "metadata": {},
   "outputs": [
    {
     "data": {
      "text/plain": [
       "0.922251475149973"
      ]
     },
     "execution_count": 3,
     "metadata": {},
     "output_type": "execute_result"
    }
   ],
   "source": [
    "# X_train, X_test, y_train, y_test = train_test_split(X, y, test_size=0.2, random_state=0)\n",
    "y_test = pd.DataFrame([3.45, 4.20, 4.18, 5.65])\n",
    "X_test = pd.DataFrame([19.21, 40.41, 33.18, 117.61])\n",
    "regressor = LinearRegression()\n",
    "# regressor.fit(X_train, y_train)\n",
    "regressor.fit(X, y)\n",
    "regressor.score(X,y)"
   ]
  },
  {
   "cell_type": "code",
   "execution_count": 4,
   "metadata": {},
   "outputs": [
    {
     "name": "stdout",
     "output_type": "stream",
     "text": [
      "('Mean Absolute Error:', 0.4335617237668783)\n",
      "('Mean Squared Error:', 0.21517413940400637)\n",
      "('Root Mean Squared Error:', 0.46386866611575134)\n"
     ]
    }
   ],
   "source": [
    "y_pred = regressor.predict(X_test)\n",
    "print('Mean Absolute Error:', metrics.mean_absolute_error(y_test, y_pred))  \n",
    "print('Mean Squared Error:', metrics.mean_squared_error(y_test, y_pred))  \n",
    "print('Root Mean Squared Error:', np.sqrt(metrics.mean_squared_error(y_test, y_pred)))"
   ]
  },
  {
   "cell_type": "code",
   "execution_count": 5,
   "metadata": {},
   "outputs": [
    {
     "data": {
      "text/plain": [
       "array([[0.02000607]])"
      ]
     },
     "execution_count": 5,
     "metadata": {},
     "output_type": "execute_result"
    }
   ],
   "source": [
    "regressor.coef_"
   ]
  },
  {
   "cell_type": "code",
   "execution_count": 6,
   "metadata": {},
   "outputs": [
    {
     "data": {
      "text/plain": [
       "array([3.75119232])"
      ]
     },
     "execution_count": 6,
     "metadata": {},
     "output_type": "execute_result"
    }
   ],
   "source": [
    "regressor.intercept_"
   ]
  },
  {
   "cell_type": "code",
   "execution_count": 8,
   "metadata": {},
   "outputs": [
    {
     "name": "stdout",
     "output_type": "stream",
     "text": [
      "[-0.04056549 -0.1970147  -0.10747239 -0.17121856 -0.12107641 -0.13021893\n",
      " -0.2840145  -0.00930524 -0.0623471  -0.17749198]\n",
      "Accuracy: -0.130 (+/- 0.155)\n",
      "[ 0.57788254 -7.20040365  0.91198183  0.91074115 -4.38117399  0.9471707\n",
      "  0.          0.          0.          0.        ]\n",
      "Accuracy: -0.82 (+/- 5.18)\n"
     ]
    }
   ],
   "source": [
    "# regressor.fit(X, y)\n",
    "scores = cross_val_score(regressor, X, y, cv=10, scoring='neg_mean_squared_error')\n",
    "print scores\n",
    "print(\"Accuracy: %0.3f (+/- %0.3f)\" % (scores.mean(), scores.std() * 2))\n",
    "scores = cross_val_score(regressor, X, y, cv=10, scoring='r2')\n",
    "print scores\n",
    "print(\"Accuracy: %0.2f (+/- %0.2f)\" % (scores.mean(), scores.std() * 2))"
   ]
  },
  {
   "cell_type": "code",
   "execution_count": 9,
   "metadata": {},
   "outputs": [
    {
     "data": {
      "text/plain": [
       "Text(0,0.5,'Checkpoint Duration (s)')"
      ]
     },
     "execution_count": 9,
     "metadata": {},
     "output_type": "execute_result"
    },
    {
     "data": {
      "image/png": "[encoded data removed]",
      "text/plain": [
       "<Figure size 432x288 with 1 Axes>"
      ]
     },
     "metadata": {
      "needs_background": "light"
     },
     "output_type": "display_data"
    }
   ],
   "source": [
    "fig, ax = plt.subplots()\n",
    "ax.plot(X, regressor.fit(X, y).predict(X), label=\"Regressor\")\n",
    "ax.scatter(X, y, color='g', label=\"Training data\")\n",
    "ax.scatter(X_test, y_test, color='pink', label=\"Test data\")\n",
    "plt.legend()\n",
    "plt.xlabel(\"Checkpoint File Size (MB)\")\n",
    "plt.ylabel(\"Checkpoint Duration (s)\")"
   ]
  },
  {
   "cell_type": "code",
   "execution_count": 206,
   "metadata": {},
   "outputs": [],
   "source": [
    "pred = regressor.fit(X, y).predict(X_test)"
   ]
  },
  {
   "cell_type": "code",
   "execution_count": 207,
   "metadata": {},
   "outputs": [
    {
     "name": "stdout",
     "output_type": "stream",
     "text": [
      "[0.19869824989781215, 0.08562802143937813, 0.05621860980252051, 0.08037282369913935] 0.21517413940400637\n"
     ]
    }
   ],
   "source": [
    "err = []\n",
    "err2 = []\n",
    "tot = 0\n",
    "for i in range(len(pred)):\n",
    "    err.append(((pred[i] - y_test.values[i])**2)[0])\n",
    "    err2.append((((pred[i] - y_test.values[i]))/y_test.values[i])[0])\n",
    "    tot += ((pred[i] - y_test.values[i])**2)[0]\n",
    "mse = tot/len(pred)\n",
    "print err2, mse"
   ]
  },
  {
   "cell_type": "code",
   "execution_count": 208,
   "metadata": {},
   "outputs": [
    {
     "data": {
      "text/plain": [
       "Text(0,0.5,'Error %')"
      ]
     },
     "execution_count": 208,
     "metadata": {},
     "output_type": "execute_result"
    },
    {
     "data": {
      "image/png": "[encoded data removed]",
      "text/plain": [
       "<Figure size 432x288 with 1 Axes>"
      ]
     },
     "metadata": {
      "needs_background": "light"
     },
     "output_type": "display_data"
    }
   ],
   "source": [
    "fig, ax = plt.subplots()\n",
    "ax.bar(np.arange(4), err2)\n",
    "lables = ['Custom9', 'Custom10', 'Shake small 32D', 'Shake 64 32D']\n",
    "plt.xticks([0,1,2,3], lables)\n",
    "plt.xlabel(\"Test models\")\n",
    "plt.ylabel(\"Error %\")"
   ]
  },
  {
   "cell_type": "code",
   "execution_count": 209,
   "metadata": {},
   "outputs": [
    {
     "name": "stdout",
     "output_type": "stream",
     "text": [
      "0.463868666116\n"
     ]
    }
   ],
   "source": [
    "print math.sqrt(0.21517413940400718)"
   ]
  },
  {
   "cell_type": "code",
   "execution_count": 531,
   "metadata": {},
   "outputs": [],
   "source": [
    "data = pd.read_csv('/Users/ozymandias/desktop/experiment_results/checkpoint/unaggregated_training.csv')\n",
    "data = shuffle(data, random_state=0)\n",
    "X = data[['Checkpoint Size (MB)']]\n",
    "# X = data[['Weight File Size']]\n",
    "y = data[['Duration']]\n",
    "test = pd.read_csv('/Users/ozymandias/desktop/experiment_results/checkpoint/unaggregated_test.csv')\n",
    "test = shuffle(test, random_state=0)\n",
    "X_test = test[['Checkpoint Size (MB)']]\n",
    "# X_test = test[['Weight File Size']]\n",
    "y_test = test[['Duration']]"
   ]
  },
  {
   "cell_type": "code",
   "execution_count": 532,
   "metadata": {},
   "outputs": [
    {
     "data": {
      "text/plain": [
       "0.8822084138318887"
      ]
     },
     "execution_count": 532,
     "metadata": {},
     "output_type": "execute_result"
    }
   ],
   "source": [
    "regressor = LinearRegression()  \n",
    "# regressor.fit(X_train, y_train)\n",
    "regressor.fit(X, y)\n",
    "regressor.score(X,y)"
   ]
  },
  {
   "cell_type": "code",
   "execution_count": 533,
   "metadata": {},
   "outputs": [
    {
     "name": "stdout",
     "output_type": "stream",
     "text": [
      "('Mean Absolute Error:', 0.4037693483634319)\n",
      "('Mean Squared Error:', 0.20268780996126617)\n",
      "('Root Mean Squared Error:', 0.4502086293722791)\n"
     ]
    }
   ],
   "source": [
    "y_pred = regressor.predict(X_test)\n",
    "print('Mean Absolute Error:', metrics.mean_absolute_error(y_test, y_pred))  \n",
    "print('Mean Squared Error:', metrics.mean_squared_error(y_test, y_pred))  \n",
    "print('Root Mean Squared Error:', np.sqrt(metrics.mean_squared_error(y_test, y_pred)))"
   ]
  },
  {
   "cell_type": "code",
   "execution_count": null,
   "metadata": {},
   "outputs": [],
   "source": []
  },
  {
   "cell_type": "code",
   "execution_count": 534,
   "metadata": {},
   "outputs": [
    {
     "name": "stdout",
     "output_type": "stream",
     "text": [
      "[-0.33837024 -0.34410418 -0.18252163 -0.43853579 -0.27971588 -0.37859478\n",
      " -0.38374929 -0.31820654 -0.37903785 -0.35673133]\n",
      "Accuracy: -0.340 (+/- 0.132)\n",
      "[-0.14332426 -0.1540339  -0.05151817 -0.27944742 -0.10467482 -0.16755512\n",
      " -0.19342676 -0.14277739 -0.17480415 -0.17326108]\n",
      "Accuracy: -0.158 (+/- 0.112)\n",
      "[0.92756622 0.76537106 0.96334515 0.57777433 0.44321905 0.91078767\n",
      " 0.86821195 0.81729172 0.7953828  0.84052709]\n",
      "Accuracy: 0.79 (+/- 0.31)\n"
     ]
    }
   ],
   "source": [
    "scores = cross_val_score(regressor, X, y, cv=10, scoring='neg_mean_absolute_error')\n",
    "print scores\n",
    "print(\"Accuracy: %0.3f (+/- %0.3f)\" % (scores.mean(), scores.std() * 2))\n",
    "scores = cross_val_score(regressor, X, y, cv=10, scoring='neg_mean_squared_error')\n",
    "print scores\n",
    "print(\"Accuracy: %0.3f (+/- %0.3f)\" % (scores.mean(), scores.std() * 2))\n",
    "scores = cross_val_score(regressor, X, y, cv=10, scoring='r2')\n",
    "print scores\n",
    "print(\"Accuracy: %0.2f (+/- %0.2f)\" % (scores.mean(), scores.std() * 2))"
   ]
  },
  {
   "cell_type": "code",
   "execution_count": 535,
   "metadata": {},
   "outputs": [
    {
     "data": {
      "image/png": "[encoded data removed]",
      "text/plain": [
       "<Figure size 432x288 with 1 Axes>"
      ]
     },
     "metadata": {
      "needs_background": "light"
     },
     "output_type": "display_data"
    }
   ],
   "source": [
    "fig, ax = plt.subplots()\n",
    "ax.plot(X, regressor.fit(X, y).predict(X), label=\"Regressor\")\n",
    "ax.scatter(X, y, color='g', label=\"Training data\")\n",
    "ax.scatter(X_test, y_test, color='pink', label=\"Test data\")\n",
    "plt.legend()\n",
    "plt.xlabel(\"Checkpoint File Size (MB)\")\n",
    "plt.ylabel(\"Checkpoint Duration (s)\")\n",
    "plt.show()"
   ]
  },
  {
   "cell_type": "code",
   "execution_count": 395,
   "metadata": {},
   "outputs": [
    {
     "data": {
      "text/plain": [
       "0.9029872400356609"
      ]
     },
     "execution_count": 395,
     "metadata": {},
     "output_type": "execute_result"
    }
   ],
   "source": [
    "X = data[['Checkpoint Size (MB)']]\n",
    "# y = data[['Diff']]\n",
    "y = data[['Local duration']]\n",
    "X_test = test[['Checkpoint Size (MB)']]\n",
    "y_test = test[['Local duration']]\n",
    "# y_test = test[['Diff']]\n",
    "regressor = LinearRegression()\n",
    "# regressor.fit(X_train, y_train)\n",
    "regressor.fit(X, y)\n",
    "regressor.score(X,y)"
   ]
  },
  {
   "cell_type": "code",
   "execution_count": 396,
   "metadata": {},
   "outputs": [
    {
     "name": "stdout",
     "output_type": "stream",
     "text": [
      "('Mean Absolute Error:', 0.4767135518003647)\n",
      "('Mean Squared Error:', 0.23726936049068081)\n",
      "('Root Mean Squared Error:', 0.48710302861990173)\n"
     ]
    }
   ],
   "source": [
    "y_pred = regressor.predict(X_test)\n",
    "print('Mean Absolute Error:', metrics.mean_absolute_error(y_test, y_pred))  \n",
    "print('Mean Squared Error:', metrics.mean_squared_error(y_test, y_pred))  \n",
    "print('Root Mean Squared Error:', np.sqrt(metrics.mean_squared_error(y_test, y_pred)))"
   ]
  },
  {
   "cell_type": "code",
   "execution_count": 397,
   "metadata": {},
   "outputs": [
    {
     "name": "stdout",
     "output_type": "stream",
     "text": [
      "[-0.24340658 -0.24684245 -0.14494708 -0.29945541 -0.19230235 -0.31701795\n",
      " -0.18841098 -0.2410124  -0.28719522 -0.25378168]\n",
      "Accuracy: -0.241 (+/- 0.102)\n",
      "[-0.10460694 -0.08524005 -0.0255485  -0.166762   -0.04647152 -0.12038967\n",
      " -0.05998414 -0.07388813 -0.12014593 -0.10025637]\n",
      "Accuracy: -0.090 (+/- 0.078)\n",
      "[0.93462366 0.81499153 0.97256611 0.55952984 0.50784728 0.91213145\n",
      " 0.93715474 0.86979491 0.77281663 0.87569245]\n",
      "Accuracy: 0.82 (+/- 0.30)\n"
     ]
    }
   ],
   "source": [
    "scores = cross_val_score(regressor, X, y, cv=10, scoring='neg_mean_absolute_error')\n",
    "print scores\n",
    "print(\"Accuracy: %0.3f (+/- %0.3f)\" % (scores.mean(), scores.std() * 2))\n",
    "scores = cross_val_score(regressor, X, y, cv=10, scoring='neg_mean_squared_error')\n",
    "print scores\n",
    "print(\"Accuracy: %0.3f (+/- %0.3f)\" % (scores.mean(), scores.std() * 2))\n",
    "scores = cross_val_score(regressor, X, y, cv=10, scoring='r2')\n",
    "print scores\n",
    "print(\"Accuracy: %0.2f (+/- %0.2f)\" % (scores.mean(), scores.std() * 2))"
   ]
  },
  {
   "cell_type": "code",
   "execution_count": 291,
   "metadata": {},
   "outputs": [
    {
     "data": {
      "image/png": "[encoded data removed]",
      "text/plain": [
       "<Figure size 432x288 with 1 Axes>"
      ]
     },
     "metadata": {
      "needs_background": "light"
     },
     "output_type": "display_data"
    }
   ],
   "source": [
    "fig, ax = plt.subplots()\n",
    "ax.plot(X, regressor.fit(X, y).predict(X), label=\"Regressor\")\n",
    "ax.scatter(X, y, color='g', label=\"Training data\")\n",
    "ax.scatter(X_test, y_test, color='pink', label=\"Test data\")\n",
    "plt.legend()\n",
    "plt.xlabel(\"Checkpoint File Size (MB)\")\n",
    "plt.ylabel(\"Checkpoint generation time (s)\")\n",
    "plt.show()"
   ]
  },
  {
   "cell_type": "code",
   "execution_count": 547,
   "metadata": {},
   "outputs": [
    {
     "data": {
      "text/plain": [
       "0.9314717697473175"
      ]
     },
     "execution_count": 547,
     "metadata": {},
     "output_type": "execute_result"
    }
   ],
   "source": [
    "X = data[['Weight File Size','Meta File Size']]\n",
    "X_old = data[['Weight File Size','Meta File Size','Index File Size']]\n",
    "from sklearn.decomposition import PCA\n",
    "pca = PCA(n_components=2)\n",
    "pca.fit(X_old)\n",
    "X_new = pca.transform(X_old)\n",
    "y = data[['Duration']]\n",
    "# y = data[['Diff']]\n",
    "X_test = test[['Weight File Size','Meta File Size']]\n",
    "X_test_old = test[['Weight File Size','Meta File Size','Index File Size']]\n",
    "X_test_new = pca.transform(X_test_old)\n",
    "y_test = test[['Duration']]\n",
    "# y_test = test[['Diff']]\n",
    "# scaler = MinMaxScaler()\n",
    "# scaler.fit(X)\n",
    "# X = scaler.transform(X)\n",
    "# X_test = scaler.transform(X_test)\n",
    "regressor = LinearRegression()\n",
    "regressor.fit(X_new, y)\n",
    "regressor.score(X_new,y)"
   ]
  },
  {
   "cell_type": "code",
   "execution_count": 552,
   "metadata": {},
   "outputs": [
    {
     "name": "stdout",
     "output_type": "stream",
     "text": [
      "('Mean Absolute Error:', 0.5617146819610408)\n",
      "('Mean Squared Error:', 0.32430522973564313)\n",
      "('Root Mean Squared Error:', 0.5694780327068316)\n"
     ]
    }
   ],
   "source": [
    "y_pred = regressor.predict(X_test_new)\n",
    "print('Mean Absolute Error:', metrics.mean_absolute_error(y_test, y_pred))\n",
    "print('Mean Squared Error:', metrics.mean_squared_error(y_test, y_pred))\n",
    "print('Root Mean Squared Error:', np.sqrt(metrics.mean_squared_error(y_test, y_pred)))"
   ]
  },
  {
   "cell_type": "code",
   "execution_count": 550,
   "metadata": {},
   "outputs": [
    {
     "name": "stdout",
     "output_type": "stream",
     "text": [
      "[-0.28962735 -0.2427415  -0.1612047  -0.3036505  -0.14686246 -0.32958142\n",
      " -0.18138244 -0.23895385 -0.27676851 -0.24008645]\n",
      "Accuracy: -0.241 (+/- 0.117)\n",
      "[-0.1613499  -0.08530162 -0.03363517 -0.18287115 -0.03153092 -0.13188998\n",
      " -0.05957056 -0.06828664 -0.11018416 -0.09140088]\n",
      "Accuracy: -0.096 (+/- 0.097)\n",
      "[0.91845636 0.87006607 0.97606879 0.72369438 0.83228234 0.92977706\n",
      " 0.95941261 0.91261547 0.87102381 0.91587283]\n",
      "Accuracy: 0.89 (+/- 0.14)\n"
     ]
    }
   ],
   "source": [
    "scores = cross_val_score(regressor, X_new, y, cv=10, scoring='neg_mean_absolute_error')\n",
    "print scores\n",
    "print(\"Accuracy: %0.3f (+/- %0.3f)\" % (scores.mean(), scores.std() * 2))\n",
    "scores = cross_val_score(regressor, X_new, y, cv=10, scoring='neg_mean_squared_error')\n",
    "print scores\n",
    "print(\"Accuracy: %0.3f (+/- %0.3f)\" % (scores.mean(), scores.std() * 2))\n",
    "scores = cross_val_score(regressor, X_new, y, cv=10, scoring='r2')\n",
    "print scores\n",
    "print(\"Accuracy: %0.2f (+/- %0.2f)\" % (scores.mean(), scores.std() * 2))"
   ]
  },
  {
   "cell_type": "code",
   "execution_count": 392,
   "metadata": {},
   "outputs": [
    {
     "data": {
      "text/plain": [
       "0.9473593303928303"
      ]
     },
     "execution_count": 392,
     "metadata": {},
     "output_type": "execute_result"
    }
   ],
   "source": [
    "X = data[['Meta File Size', 'Weight File Size']]\n",
    "y = data[['Local duration']]\n",
    "X_test = test[['Meta File Size', 'Weight File Size']]\n",
    "y_test = test[['Local duration']]\n",
    "regressor = LinearRegression()  \n",
    "# regressor.fit(X_train, y_train)\n",
    "regressor.fit(X, y)\n",
    "regressor.score(X,y)"
   ]
  },
  {
   "cell_type": "code",
   "execution_count": 393,
   "metadata": {},
   "outputs": [
    {
     "name": "stdout",
     "output_type": "stream",
     "text": [
      "('Mean Absolute Error:', 0.08437583389259395)\n",
      "('Mean Squared Error:', 0.00970057530485249)\n",
      "('Root Mean Squared Error:', 0.09849149864253508)\n"
     ]
    }
   ],
   "source": [
    "y_pred = regressor.predict(X_test)\n",
    "print('Mean Absolute Error:', metrics.mean_absolute_error(y_test, y_pred))  \n",
    "print('Mean Squared Error:', metrics.mean_squared_error(y_test, y_pred))  \n",
    "print('Root Mean Squared Error:', np.sqrt(metrics.mean_squared_error(y_test, y_pred)))"
   ]
  },
  {
   "cell_type": "code",
   "execution_count": 394,
   "metadata": {},
   "outputs": [
    {
     "name": "stdout",
     "output_type": "stream",
     "text": [
      "[-0.06570368 -0.06130233 -0.03946767 -0.07522341 -0.04582693 -0.04218488\n",
      " -0.02660411 -0.04952814 -0.06598586 -0.05374446]\n",
      "Accuracy: -0.053 (+/- 0.028)\n",
      "[-0.00779881 -0.00661218 -0.00194547 -0.00805072 -0.00251603 -0.00337611\n",
      " -0.00117288 -0.00395765 -0.00639406 -0.00567175]\n",
      "Accuracy: -0.005 (+/- 0.005)\n",
      "[0.84721319 0.91775251 0.97764955 0.84411043 0.93892216 0.96408398\n",
      " 0.98741458 0.90838771 0.91312234 0.92593054]\n",
      "Accuracy: 0.92 (+/- 0.09)\n"
     ]
    }
   ],
   "source": [
    "scores = cross_val_score(regressor, X, y, cv=10, scoring='neg_mean_absolute_error')\n",
    "print scores\n",
    "print(\"Accuracy: %0.3f (+/- %0.3f)\" % (scores.mean(), scores.std() * 2))\n",
    "scores = cross_val_score(regressor, X, y, cv=10, scoring='neg_mean_squared_error')\n",
    "print scores\n",
    "print(\"Accuracy: %0.3f (+/- %0.3f)\" % (scores.mean(), scores.std() * 2))\n",
    "scores = cross_val_score(regressor, X, y, cv=10, scoring='r2')\n",
    "print scores\n",
    "print(\"Accuracy: %0.2f (+/- %0.2f)\" % (scores.mean(), scores.std() * 2))"
   ]
  },
  {
   "cell_type": "code",
   "execution_count": 10,
   "metadata": {},
   "outputs": [
    {
     "name": "stdout",
     "output_type": "stream",
     "text": [
      "[-0.28074265 -0.24254842 -0.18327257 -0.25871916 -0.16461362 -0.23388811\n",
      " -0.20263564 -0.23995862 -0.22813273 -0.31466727]\n",
      "Accuracy: -0.235 (+/- 0.084)\n",
      "[-0.18756243 -0.11382136 -0.04183427 -0.10898511 -0.03467237 -0.09394933\n",
      " -0.06894579 -0.09092547 -0.06388666 -0.13694556]\n",
      "Accuracy: -0.094 (+/- 0.087)\n",
      "[0.90520897 0.82662397 0.97023518 0.83533105 0.8155725  0.94997802\n",
      " 0.95302495 0.88364519 0.9252174  0.87395262]\n",
      "Accuracy: 0.89 (+/- 0.11)\n",
      "0.9469727348449294\n",
      "{'epsilon': 0.16, 'C': 6}\n"
     ]
    }
   ],
   "source": [
    "data = pd.read_csv('/Users/ozymandias/desktop/experiment_results/checkpoint/unaggregated_training.csv')\n",
    "data = shuffle(data, random_state=0)\n",
    "X = data[['Checkpoint Size (MB)']]\n",
    "# X = data[['Weight File Size']]\n",
    "y = data[['Duration']]\n",
    "test = pd.read_csv('/Users/ozymandias/desktop/experiment_results/checkpoint/unaggregated_test.csv')\n",
    "test = shuffle(test, random_state=0)\n",
    "X_test = test[['Checkpoint Size (MB)']]\n",
    "# X_test = test[['Weight File Size']]\n",
    "y_test = test[['Duration']]\n",
    "svr = SVR(kernel='rbf', C=10, gamma='auto', epsilon=0.15)\n",
    "svr.fit(X, y.values.ravel())\n",
    "scores = cross_val_score(svr, X, y.values.ravel(), cv=10, scoring='neg_mean_absolute_error')\n",
    "print scores\n",
    "print(\"Accuracy: %0.3f (+/- %0.3f)\" % (scores.mean(), scores.std() * 2))\n",
    "scores = cross_val_score(svr, X, y.values.ravel(), cv=10, scoring='neg_mean_squared_error')\n",
    "print scores\n",
    "print(\"Accuracy: %0.3f (+/- %0.3f)\" % (scores.mean(), scores.std() * 2))\n",
    "scores = cross_val_score(svr, X, y.values.ravel(), cv=10, scoring='r2')\n",
    "print scores\n",
    "print(\"Accuracy: %0.2f (+/- %0.2f)\" % (scores.mean(), scores.std() * 2))\n",
    "print svr.score(X,y)\n",
    "clf = SVR(kernel='rbf')\n",
    "grid_values = {'C':[10, 15, 20, 25, 45, 50, 100], 'epsilon':[0.1,0.11,0.12,0.13,0.14,0.15,0.16,0.17,0.18,0.19,0.2]}\n",
    "grid = GridSearchCV(clf, param_grid = grid_values, scoring='neg_mean_squared_error', cv=10, n_jobs=1)\n",
    "grid.fit(X,y.values.ravel())\n",
    "print grid.best_params_\n"
   ]
  },
  {
   "cell_type": "code",
   "execution_count": 376,
   "metadata": {},
   "outputs": [
    {
     "name": "stdout",
     "output_type": "stream",
     "text": [
      "('Mean Absolute Error:', 0.7956982284840718)\n",
      "('Mean Squared Error:', 0.7514001025678428)\n",
      "('Root Mean Squared Error:', 0.8668333764731506)\n"
     ]
    }
   ],
   "source": [
    "y_pred = svr.predict(X_test)\n",
    "print('Mean Absolute Error:', metrics.mean_absolute_error(y_test, y_pred))  \n",
    "print('Mean Squared Error:', metrics.mean_squared_error(y_test, y_pred))  \n",
    "print('Root Mean Squared Error:', np.sqrt(metrics.mean_squared_error(y_test, y_pred)))"
   ]
  },
  {
   "cell_type": "code",
   "execution_count": 404,
   "metadata": {},
   "outputs": [],
   "source": [
    "###### Below is on the whole trainig + test dataset"
   ]
  },
  {
   "cell_type": "code",
   "execution_count": 19,
   "metadata": {},
   "outputs": [
    {
     "name": "stdout",
     "output_type": "stream",
     "text": [
      "[-0.36959706 -0.31751964 -0.31159392 -0.27958463 -0.31625147 -0.31951962\n",
      " -0.39540776 -0.34211636 -0.46223624 -0.33436957]\n",
      "Accuracy: -0.345 (+/- 0.099)\n",
      "[-0.20340424 -0.14434029 -0.12349361 -0.10370702 -0.135024   -0.11367813\n",
      " -0.19650127 -0.16336278 -0.26029653 -0.16239079]\n",
      "Accuracy: -0.161 (+/- 0.091)\n",
      "[0.70736294 0.87193018 0.78562405 0.68264541 0.32299707 0.93236307\n",
      " 0.81240677 0.93485062 0.76404215 0.72196929]\n",
      "Accuracy: 0.75 (+/- 0.33)\n"
     ]
    }
   ],
   "source": [
    "data = pd.read_csv('/Users/ozymandias/desktop/experiment_results/checkpoint/whole_data.csv')\n",
    "X = data[['Checkpoint Size (MB)']]\n",
    "# y = data[['Diff']]\n",
    "# y = data[['Local duration']]\n",
    "y = data[['Duration']]\n",
    "X_train, X_test, y_train, y_test = train_test_split(X, y, test_size=0.2, random_state=0)\n",
    "regressor = LinearRegression()  \n",
    "regressor.fit(X_train, y_train)\n",
    "scores = cross_val_score(regressor, X_train, y_train, cv=10, scoring='neg_mean_absolute_error')\n",
    "print scores\n",
    "print(\"Accuracy: %0.3f (+/- %0.3f)\" % (scores.mean(), scores.std() * 2))\n",
    "scores = cross_val_score(regressor, X_train, y_train, cv=10, scoring='neg_mean_squared_error')\n",
    "print scores\n",
    "print(\"Accuracy: %0.3f (+/- %0.3f)\" % (scores.mean(), scores.std() * 2))\n",
    "scores = cross_val_score(regressor, X_train, y_train, cv=10, scoring='r2')\n",
    "print scores\n",
    "print(\"Accuracy: %0.2f (+/- %0.2f)\" % (scores.mean(), scores.std() * 2))"
   ]
  },
  {
   "cell_type": "code",
   "execution_count": 20,
   "metadata": {},
   "outputs": [
    {
     "name": "stdout",
     "output_type": "stream",
     "text": [
      "('Mean Absolute Error:', 0.3557251723459007)\n",
      "('Mean Squared Error:', 0.18478576376567102)\n",
      "('Root Mean Squared Error:', 0.42986714664611325)\n"
     ]
    },
    {
     "data": {
      "image/png": "[encoded data removed]",
      "text/plain": [
       "<Figure size 432x288 with 1 Axes>"
      ]
     },
     "metadata": {
      "needs_background": "light"
     },
     "output_type": "display_data"
    }
   ],
   "source": [
    "y_pred = regressor.predict(X_test)\n",
    "gg = []\n",
    "for i in range(len(y_pred)):\n",
    "    gg.append((y_pred[i] - y_test.values[i])[0])\n",
    "plt.bar(np.arange(len(y_pred)),gg)\n",
    "print('Mean Absolute Error:', metrics.mean_absolute_error(y_test, y_pred))\n",
    "print('Mean Squared Error:', metrics.mean_squared_error(y_test, y_pred))\n",
    "print('Root Mean Squared Error:', np.sqrt(metrics.mean_squared_error(y_test, y_pred)))"
   ]
  },
  {
   "cell_type": "code",
   "execution_count": null,
   "metadata": {},
   "outputs": [],
   "source": []
  },
  {
   "cell_type": "code",
   "execution_count": 94,
   "metadata": {},
   "outputs": [
    {
     "name": "stdout",
     "output_type": "stream",
     "text": [
      "[-0.36959706 -0.31751964 -0.31159392 -0.27958463 -0.31625147 -0.31951962\n",
      " -0.39540776 -0.34211636 -0.46223624 -0.33436957]\n",
      "Accuracy: -0.345 (+/- 0.099)\n",
      "[-0.20340424 -0.14434029 -0.12349361 -0.10370702 -0.135024   -0.11367813\n",
      " -0.19650127 -0.16336278 -0.26029653 -0.16239079]\n",
      "Accuracy: -0.161 (+/- 0.091)\n",
      "[0.70736294 0.87193018 0.78562405 0.68264541 0.32299707 0.93236307\n",
      " 0.81240677 0.93485062 0.76404215 0.72196929]\n",
      "Accuracy: 0.75 (+/- 0.33)\n"
     ]
    }
   ],
   "source": [
    "data = pd.read_csv('/Users/ozymandias/desktop/experiment_results/checkpoint/whole_data.csv')\n",
    "X_uni = data[['Checkpoint Size (MB)']]\n",
    "X = data[['Weight File Size','Meta File Size']]\n",
    "X_old = data[['Weight File Size','Meta File Size','Index File Size']]\n",
    "from sklearn.decomposition import PCA\n",
    "pca = PCA(n_components=2)\n",
    "pca.fit(X_old)\n",
    "X_new = pca.transform(X_old)\n",
    "y = data[['Duration']]\n",
    "# y = data[['Diff']]\n",
    "# y = data[['Local duration']]\n",
    "X_train, X_test, y_train, y_test = train_test_split(X_uni, y, test_size=0.2, random_state=0)\n",
    "regressor = LinearRegression()\n",
    "regressor.fit(X_train, y_train)\n",
    "scores = cross_val_score(regressor, X_train, y_train, cv=10, scoring='neg_mean_absolute_error')\n",
    "print scores\n",
    "print(\"Accuracy: %0.3f (+/- %0.3f)\" % (scores.mean(), scores.std() * 2))\n",
    "scores = cross_val_score(regressor, X_train, y_train, cv=10, scoring='neg_mean_squared_error')\n",
    "print scores\n",
    "print(\"Accuracy: %0.3f (+/- %0.3f)\" % (scores.mean(), scores.std() * 2))\n",
    "scores = cross_val_score(regressor, X_train, y_train, cv=10, scoring='r2')\n",
    "print scores\n",
    "print(\"Accuracy: %0.2f (+/- %0.2f)\" % (scores.mean(), scores.std() * 2))"
   ]
  },
  {
   "cell_type": "code",
   "execution_count": 97,
   "metadata": {},
   "outputs": [
    {
     "name": "stdout",
     "output_type": "stream",
     "text": [
      "[[3.96029145]]\n",
      "('Mean Absolute Percentage Error:', 7.979580330600075)\n",
      "('Mean Absolute Error:', 0.3557251723459007)\n",
      "('Mean Squared Error:', 0.18478576376567102)\n",
      "('Root Mean Squared Error:', 0.42986714664611325)\n"
     ]
    }
   ],
   "source": [
    "y_pred = regressor.predict(X_test)\n",
    "res32 = [[15.99]]\n",
    "res32_pred = regressor.predict(res32)\n",
    "print (res32_pred)\n",
    "print('Mean Absolute Percentage Error:', mean_absolute_percentage_error(y_test, y_pred)) \n",
    "print('Mean Absolute Error:', metrics.mean_absolute_error(y_test, y_pred))\n",
    "print('Mean Squared Error:', metrics.mean_squared_error(y_test, y_pred))\n",
    "print('Root Mean Squared Error:', np.sqrt(metrics.mean_squared_error(y_test, y_pred)))"
   ]
  },
  {
   "cell_type": "code",
   "execution_count": 78,
   "metadata": {},
   "outputs": [
    {
     "name": "stdout",
     "output_type": "stream",
     "text": [
      "[-0.13614524 -0.20841152 -0.18384494 -0.15254899 -0.14624846 -0.15771814\n",
      " -0.14872499 -0.36872616 -0.24757137 -0.23092211]\n",
      "MAE: -0.198 (+/- 0.135)\n",
      "[-0.03625307 -0.06823899 -0.05568645 -0.04448409 -0.03689084 -0.03069373\n",
      " -0.03790599 -0.2466622  -0.07118963 -0.09034186]\n",
      "MSE: -0.072 (+/- 0.122)\n",
      "[0.94784282 0.93945311 0.90333236 0.86387391 0.81503133 0.98173765\n",
      " 0.96381241 0.90163066 0.93546686 0.8453249 ]\n",
      "Accuracy: 0.91 (+/- 0.10)\n",
      "0:00:02.400299\n",
      "{'epsilon': 0.14, 'C': 10}\n"
     ]
    }
   ],
   "source": [
    "data = pd.read_csv('/Users/ozymandias/desktop/experiment_results/checkpoint/whole_data.csv')\n",
    "X = data[['Checkpoint Size (MB)']]\n",
    "y = data[['Duration']]\n",
    "X_train, X_test, y_train, y_test = train_test_split(X, y, test_size=0.2, random_state=0)\n",
    "# y = data[['Diff']]\n",
    "# y = data[['Local duration']]\n",
    "svr = SVR(kernel='rbf', C=10, gamma='auto', epsilon=0.14)\n",
    "svr.fit(X_train, y_train.values.ravel())\n",
    "scores = cross_val_score(svr, X_train, y_train.values.ravel(), cv=10, scoring='neg_mean_absolute_error')\n",
    "print scores\n",
    "print(\"MAE: %0.3f (+/- %0.3f)\" % (scores.mean(), scores.std() * 2))\n",
    "scores = cross_val_score(svr, X_train, y_train.values.ravel(), cv=10, scoring='neg_mean_squared_error')\n",
    "print scores\n",
    "print(\"MSE: %0.3f (+/- %0.3f)\" % (scores.mean(), scores.std() * 2))\n",
    "scores = cross_val_score(svr, X_train, y_train.values.ravel(), cv=10, scoring='r2')\n",
    "print scores\n",
    "print(\"Accuracy: %0.2f (+/- %0.2f)\" % (scores.mean(), scores.std() * 2))\n",
    "clf = SVR(kernel='rbf')\n",
    "grid_values = {'C':[10, 15, 20, 25, 45, 50, 100], 'epsilon':[0.1,0.11,0.12,0.13,0.14,0.15,0.16,0.17,0.18,0.19,0.2]}\n",
    "grid = GridSearchCV(clf, param_grid = grid_values, scoring='neg_mean_absolute_error', cv=10, n_jobs=1)\n",
    "then = datetime.now()\n",
    "grid.fit(X_train,y_train.values.ravel())\n",
    "now = datetime.now()\n",
    "print now-then\n",
    "print grid.best_params_"
   ]
  },
  {
   "cell_type": "code",
   "execution_count": 91,
   "metadata": {},
   "outputs": [
    {
     "name": "stdout",
     "output_type": "stream",
     "text": [
      "[7.46013529]\n",
      "('Mean Absolute Percentage Error:', 5.381931266877247)\n",
      "('Mean Absolute Error:', 0.24505200431974763)\n",
      "('Mean Squared Error:', 0.09701218572025269)\n",
      "('Root Mean Squared Error:', 0.3114677924284511)\n"
     ]
    }
   ],
   "source": [
    "y_pred = svr.predict(X_test)\n",
    "res32 = [[204.04]]\n",
    "res32_pred = svr.predict(res32)\n",
    "print (res32_pred)\n",
    "# gg = []\n",
    "# for i in range(len(y_pred)):\n",
    "#     gg.append((y_pred[i] - y_test.values[i])[0])\n",
    "# plt.bar(np.arange(len(y_pred)),gg)\n",
    "new_pred = []\n",
    "for i in range(len(y_pred)):\n",
    "    new_pred.append([y_pred[i]])\n",
    "print('Mean Absolute Percentage Error:', mean_absolute_percentage_error(y_test, new_pred)) \n",
    "print('Mean Absolute Error:', metrics.mean_absolute_error(y_test, y_pred))\n",
    "print('Mean Squared Error:', metrics.mean_squared_error(y_test, y_pred))\n",
    "print('Root Mean Squared Error:', np.sqrt(metrics.mean_squared_error(y_test, y_pred)))"
   ]
  },
  {
   "cell_type": "code",
   "execution_count": 10,
   "metadata": {},
   "outputs": [
    {
     "data": {
      "image/png": "[encoded data removed]",
      "text/plain": [
       "<Figure size 432x288 with 1 Axes>"
      ]
     },
     "metadata": {
      "needs_background": "light"
     },
     "output_type": "display_data"
    }
   ],
   "source": [
    "fig, ax = plt.subplots()\n",
    "regressor = LinearRegression()\n",
    "# regressor.fit(X_train, y_train)\n",
    "regressor.fit(X, y)\n",
    "regressor.score(X,y)\n",
    "ax.plot(X, regressor.fit(X, y).predict(X), label=\"Regressor\")\n",
    "ax.scatter(X_train, y_train, color='g', label=\"Training data\")\n",
    "ax.scatter(X_test, y_test, color='pink', label=\"Test data\")\n",
    "plt.legend()\n",
    "plt.xlabel(\"Checkpoint File Size (MB)\")\n",
    "plt.ylabel(\"Checkpoint Duration (s)\")\n",
    "plt.show()"
   ]
  },
  {
   "cell_type": "code",
   "execution_count": 24,
   "metadata": {},
   "outputs": [
    {
     "data": {
      "image/png": "[encoded data removed]",
      "text/plain": [
       "<Figure size 237.6x108 with 1 Axes>"
      ]
     },
     "metadata": {},
     "output_type": "display_data"
    }
   ],
   "source": [
    "data = pd.read_csv('/Users/ozymandias/desktop/experiment_results/checkpoint/aggregated.csv')\n",
    "# data = shuffle(data, random_state=0)\n",
    "font = gen_font('light',6)\n",
    "font2 = gen_font('light',5)\n",
    "X = data[['Checkpoint Size (MB)']]\n",
    "y = data[['Duration mean (s)']]\n",
    "cv = data[['Coefficient of variation']]\n",
    "fig, ax = plt.subplots(figsize=(3.3,1.5))\n",
    "# ax.plot(X, regressor.fit(X, y).predict(X), label=\"Regressor\")\n",
    "ax.scatter(X, y, s=cv*800, color='gray', label=\"Training data\", alpha=.5)\n",
    "# ax.scatter(X_test, y_test, color='pink', label=\"Test data\")\n",
    "# plt.legend()\n",
    "plt.xticks(fontproperties=font)\n",
    "plt.yticks(fontproperties=font)\n",
    "plt.setp(ax.spines.values(), color='lightgray')\n",
    "plt.ylim(0,8)\n",
    "plt.xlabel(\"Checkpoint size (MB)\", fontproperties=font)\n",
    "plt.ylabel(\"Checkpoint time (s)\", fontproperties=font)\n",
    "fig.savefig(\"/Users/ozymandias/Desktop/ckpt_duration_size_correlation.pdf\", bbox_inches='tight')"
   ]
  },
  {
   "cell_type": "code",
   "execution_count": null,
   "metadata": {},
   "outputs": [],
   "source": []
  }
 ],
 "metadata": {
  "kernelspec": {
   "display_name": "Python 2",
   "language": "python",
   "name": "python2"
  },
  "language_info": {
   "codemirror_mode": {
    "name": "ipython",
    "version": 2
   },
   "file_extension": ".py",
   "mimetype": "text/x-python",
   "name": "python",
   "nbconvert_exporter": "python",
   "pygments_lexer": "ipython2",
   "version": "2.7.15"
  }
 },
 "nbformat": 4,
 "nbformat_minor": 2
}
